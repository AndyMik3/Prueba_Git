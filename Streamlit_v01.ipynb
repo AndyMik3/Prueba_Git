{
 "cells": [
  {
   "cell_type": "markdown",
   "metadata": {},
   "source": [
    "Esto es una prueba"
   ]
  },
  {
   "cell_type": "code",
   "execution_count": null,
   "metadata": {},
   "outputs": [],
   "source": [
    "# ! pip install streamlit"
   ]
  },
  {
   "cell_type": "code",
   "execution_count": null,
   "metadata": {},
   "outputs": [],
   "source": [
    "import streamlit as st\n",
    "import pandas as pd\n",
    "import matplotlib.pyplot as plt\n",
    "\n",
    "# Generar datos de ejemplo\n",
    "df = pd.DataFrame({\n",
    "    'Fecha': pd.date_range(start='2023-01-01', periods=100, freq='D'),\n",
    "    'Valor': pd.Series(range(100)) + pd.Series(range(100)).apply(lambda x: x * 0.5)\n",
    "})\n",
    "\n",
    "# Configurar título en Streamlit\n",
    "st.title('Gráfica de líneas simple')\n",
    "\n",
    "# Mostrar DataFrame en la app\n",
    "st.write(\"Datos de ejemplo\", df)\n",
    "\n",
    "# Crear una figura de Matplotlib\n",
    "fig, ax = plt.subplots()\n",
    "ax.plot(df['Fecha'], df['Valor'], label='Valor diario')\n",
    "\n",
    "# Añadir etiquetas y título\n",
    "ax.set_xlabel('Fecha')\n",
    "ax.set_ylabel('Valor')\n",
    "ax.set_title('Gráfico de valores por fecha')\n",
    "\n",
    "# Mostrar leyenda\n",
    "ax.legend()\n",
    "\n",
    "# Mostrar el gráfico en Streamlit\n",
    "st.pyplot(fig)"
   ]
  },
  {
   "cell_type": "code",
   "execution_count": null,
   "metadata": {},
   "outputs": [],
   "source": []
  },
  {
   "cell_type": "code",
   "execution_count": null,
   "metadata": {},
   "outputs": [],
   "source": []
  }
 ],
 "metadata": {
  "kernelspec": {
   "display_name": "Python 3",
   "language": "python",
   "name": "python3"
  },
  "language_info": {
   "codemirror_mode": {
    "name": "ipython",
    "version": 3
   },
   "file_extension": ".py",
   "mimetype": "text/x-python",
   "name": "python",
   "nbconvert_exporter": "python",
   "pygments_lexer": "ipython3",
   "version": "3.11.9"
  }
 },
 "nbformat": 4,
 "nbformat_minor": 2
}
